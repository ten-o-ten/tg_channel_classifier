{
 "cells": [
  {
   "cell_type": "code",
   "execution_count": null,
   "metadata": {
    "trusted": true
   },
   "outputs": [],
   "source": [
    "from transformers import BertTokenizer, BertForSequenceClassification, Trainer, TrainingArguments, DataCollatorWithPadding\n",
    "from datasets import Dataset\n",
    "import pandas as pd\n",
    "import numpy as np\n",
    "from sklearn.model_selection import train_test_split\n",
    "from sklearn.metrics import accuracy_score, f1_score\n",
    "import torch"
   ]
  },
  {
   "cell_type": "code",
   "execution_count": 2,
   "metadata": {},
   "outputs": [],
   "source": [
    "import pandas as pd"
   ]
  },
  {
   "cell_type": "code",
   "execution_count": null,
   "metadata": {
    "trusted": true
   },
   "outputs": [],
   "source": [
    "# Заходим на hugging face\n",
    "from huggingface_hub import login\n",
    "from kaggle_secrets import UserSecretsClient\n",
    "user_secrets = UserSecretsClient()\n",
    "\n",
    "hf_token = user_secrets.get_secret(\"HUGGINGFACE_TOKEN\")\n",
    "login(token = hf_token)"
   ]
  },
  {
   "cell_type": "code",
   "execution_count": null,
   "metadata": {},
   "outputs": [],
   "source": [
    "# Загрузка данных\n",
    "df = pd.read_csv('data\\balanced_dataset.csv') "
   ]
  },
  {
   "cell_type": "code",
   "execution_count": null,
   "metadata": {
    "trusted": true
   },
   "outputs": [],
   "source": [
    "# Преобразование меток\n",
    "label_to_id = {label: idx for idx, label in enumerate(df['Thematics'].unique())}\n",
    "id_to_label = {idx: label for label, idx in label_to_id.items()}\n",
    "\n",
    "df['label'] = df['Thematics'].map(label_to_id)"
   ]
  },
  {
   "cell_type": "code",
   "execution_count": null,
   "metadata": {
    "trusted": true
   },
   "outputs": [],
   "source": [
    "# Разделение данных\n",
    "train_df, test_df = train_test_split(df, test_size=0.2, random_state=42)\n",
    "\n",
    "train_dataset = Dataset.from_pandas(train_df)\n",
    "test_dataset = Dataset.from_pandas(test_df)"
   ]
  },
  {
   "cell_type": "code",
   "execution_count": null,
   "metadata": {
    "execution": {
     "iopub.execute_input": "2025-01-23T16:32:53.342081Z",
     "iopub.status.busy": "2025-01-23T16:32:53.341772Z",
     "iopub.status.idle": "2025-01-23T16:32:53.843904Z",
     "shell.execute_reply": "2025-01-23T16:32:53.843263Z",
     "shell.execute_reply.started": "2025-01-23T16:32:53.342057Z"
    },
    "trusted": true
   },
   "outputs": [],
   "source": [
    "# Загрузка токенизатора и модели\n",
    "model_name = 'cointegrated/rubert-tiny'  # Используем rubert-tiny\n",
    "tokenizer = BertTokenizer.from_pretrained(model_name)\n",
    "model = BertForSequenceClassification.from_pretrained(\n",
    "    model_name,\n",
    "    num_labels=len(label_to_id),  \n",
    "    ignore_mismatched_sizes=True \n",
    ")"
   ]
  },
  {
   "cell_type": "code",
   "execution_count": null,
   "metadata": {
    "execution": {
     "iopub.execute_input": "2025-01-23T15:59:09.477317Z",
     "iopub.status.busy": "2025-01-23T15:59:09.477004Z",
     "iopub.status.idle": "2025-01-23T16:32:04.359506Z",
     "shell.execute_reply": "2025-01-23T16:32:04.358665Z",
     "shell.execute_reply.started": "2025-01-23T15:59:09.477294Z"
    },
    "trusted": true
   },
   "outputs": [],
   "source": [
    "# Токенизация\n",
    "def tokenize_function(examples):\n",
    "    return tokenizer(examples['Text'], padding= True, truncation=True, max_length=128)\n",
    "\n",
    "train_dataset = train_dataset.map(tokenize_function, batched=True)\n",
    "test_dataset = test_dataset.map(tokenize_function, batched=True)"
   ]
  },
  {
   "cell_type": "code",
   "execution_count": null,
   "metadata": {
    "collapsed": true,
    "execution": {
     "iopub.execute_input": "2025-01-23T16:32:44.124851Z",
     "iopub.status.busy": "2025-01-23T16:32:44.124399Z",
     "iopub.status.idle": "2025-01-23T16:32:44.159728Z",
     "shell.execute_reply": "2025-01-23T16:32:44.158332Z",
     "shell.execute_reply.started": "2025-01-23T16:32:44.124812Z"
    },
    "jupyter": {
     "outputs_hidden": true
    },
    "trusted": true
   },
   "outputs": [],
   "source": [
    "# Удаление лишних колонок\n",
    "train_dataset = train_dataset.remove_columns(['Text', 'Thematics', '__index_level_0__'])\n",
    "test_dataset = test_dataset.remove_columns(['Text', 'Thematics', '__index_level_0__'])"
   ]
  },
  {
   "cell_type": "code",
   "execution_count": null,
   "metadata": {
    "execution": {
     "iopub.execute_input": "2025-01-23T16:32:22.195206Z",
     "iopub.status.busy": "2025-01-23T16:32:22.194894Z",
     "iopub.status.idle": "2025-01-23T16:32:22.198722Z",
     "shell.execute_reply": "2025-01-23T16:32:22.197893Z",
     "shell.execute_reply.started": "2025-01-23T16:32:22.195183Z"
    },
    "trusted": true
   },
   "outputs": [],
   "source": [
    "# Создаём DataCollator для токенизации\n",
    "data_collator = DataCollatorWithPadding(tokenizer=tokenizer)"
   ]
  },
  {
   "cell_type": "code",
   "execution_count": null,
   "metadata": {
    "collapsed": true,
    "jupyter": {
     "outputs_hidden": true
    },
    "trusted": true
   },
   "outputs": [],
   "source": [
    "# Проверяем, доступны ли несколько GPU\n",
    "if torch.cuda.device_count() > 1:\n",
    "    print(f\"Используем {torch.cuda.device_count()} GPU!\")\n",
    "    model = torch.nn.DataParallel(model)  # Распределяем модель на несколько GPU\n",
    "else:\n",
    "    print(\"Используем один GPU или CPU.\")\n",
    "\n",
    "# Перемещение модели на устройство\n",
    "device = torch.device(\"cuda\" if torch.cuda.is_available() else \"cpu\")\n",
    "model.to(device)"
   ]
  },
  {
   "cell_type": "code",
   "execution_count": null,
   "metadata": {
    "trusted": true
   },
   "outputs": [],
   "source": [
    "# Вычисляем F1-score\n",
    "def compute_metrics(p):\n",
    "    predictions, labels = p\n",
    "    predictions = np.argmax(predictions, axis=1)\n",
    "    accuracy = accuracy_score(labels, predictions)\n",
    "    f1 = f1_score(labels, predictions, average='weighted')  # Вычисляем F1-score\n",
    "    return {\"accuracy\": accuracy, \"f1\": f1}  # Возвращаем метрики"
   ]
  },
  {
   "cell_type": "code",
   "execution_count": null,
   "metadata": {
    "execution": {
     "iopub.execute_input": "2025-01-23T16:32:58.782195Z",
     "iopub.status.busy": "2025-01-23T16:32:58.781859Z",
     "iopub.status.idle": "2025-01-23T16:32:58.817347Z",
     "shell.execute_reply": "2025-01-23T16:32:58.816651Z",
     "shell.execute_reply.started": "2025-01-23T16:32:58.782166Z"
    },
    "trusted": true
   },
   "outputs": [],
   "source": [
    "# Настройка обучения\n",
    "training_args = TrainingArguments(\n",
    "    output_dir='./results',\n",
    "    eval_strategy=\"epoch\",\n",
    "    learning_rate=2e-5,\n",
    "    per_device_train_batch_size=32,\n",
    "    per_device_eval_batch_size=32,\n",
    "    num_train_epochs=3,\n",
    "    weight_decay=0.01,\n",
    "    logging_dir='./logs',\n",
    "    logging_steps=1,\n",
    "    save_strategy=\"epoch\",\n",
    "    save_total_limit=2,\n",
    "    load_best_model_at_end=True,\n",
    "    metric_for_best_model=\"f1\", \n",
    "    fp16=True,\n",
    "    dataloader_num_workers=4,\n",
    "    report_to=\"none\",\n",
    ")"
   ]
  },
  {
   "cell_type": "code",
   "execution_count": null,
   "metadata": {
    "execution": {
     "iopub.execute_input": "2025-01-23T16:33:00.600810Z",
     "iopub.status.busy": "2025-01-23T16:33:00.600471Z",
     "iopub.status.idle": "2025-01-23T16:33:00.642313Z",
     "shell.execute_reply": "2025-01-23T16:33:00.641654Z",
     "shell.execute_reply.started": "2025-01-23T16:33:00.600780Z"
    },
    "trusted": true
   },
   "outputs": [],
   "source": [
    "# Создание Trainer\n",
    "trainer = Trainer(\n",
    "    model=model,\n",
    "    args=training_args,\n",
    "    train_dataset=train_dataset,\n",
    "    eval_dataset=test_dataset,\n",
    "    data_collator=data_collator,\n",
    "    compute_metrics=compute_metrics\n",
    ")"
   ]
  },
  {
   "cell_type": "code",
   "execution_count": null,
   "metadata": {
    "execution": {
     "iopub.execute_input": "2025-01-23T16:33:02.592919Z",
     "iopub.status.busy": "2025-01-23T16:33:02.592561Z",
     "iopub.status.idle": "2025-01-23T17:05:39.877068Z",
     "shell.execute_reply": "2025-01-23T17:05:39.876290Z",
     "shell.execute_reply.started": "2025-01-23T16:33:02.592890Z"
    },
    "trusted": true
   },
   "outputs": [],
   "source": [
    "# Обучение модели\n",
    "trainer.train()"
   ]
  },
  {
   "cell_type": "code",
   "execution_count": null,
   "metadata": {
    "execution": {
     "iopub.execute_input": "2025-01-23T17:23:39.231757Z",
     "iopub.status.busy": "2025-01-23T17:23:39.231256Z",
     "iopub.status.idle": "2025-01-23T17:23:39.237703Z",
     "shell.execute_reply": "2025-01-23T17:23:39.237014Z",
     "shell.execute_reply.started": "2025-01-23T17:23:39.231712Z"
    },
    "trusted": true
   },
   "outputs": [],
   "source": [
    "# вывод метрик по топ-3 классам\n",
    "def compute_metrics_with_top_k(p):\n",
    "    predictions, labels = p\n",
    "    top_k_predictions = np.argsort(predictions, axis=1)[:, -3:]  # Топ-3 предсказания\n",
    "    labels = labels[:, None]  \n",
    "    top_k_hits = np.any(top_k_predictions == labels, axis=1)\n",
    "    accuracy_top_k = np.mean(top_k_hits)\n",
    "    \n",
    "    predictions = np.argmax(predictions, axis=1)\n",
    "    f1 = f1_score(labels.flatten(), predictions, average='weighted')\n",
    "    return {\"accuracy_top_k\": accuracy_top_k, \"f1\": f1}\n",
    "\n",
    "trainer.compute_metrics = compute_metrics_with_top_k\n"
   ]
  },
  {
   "cell_type": "code",
   "execution_count": null,
   "metadata": {
    "trusted": true
   },
   "outputs": [],
   "source": [
    "# Оценка модели на тестовых данных\n",
    "eval_results = trainer.evaluate()\n",
    "print(f\"Результаты оценки: {eval_results}\")"
   ]
  },
  {
   "cell_type": "code",
   "execution_count": null,
   "metadata": {
    "execution": {
     "iopub.execute_input": "2025-01-23T17:25:07.898217Z",
     "iopub.status.busy": "2025-01-23T17:25:07.897913Z",
     "iopub.status.idle": "2025-01-23T17:25:07.902929Z",
     "shell.execute_reply": "2025-01-23T17:25:07.902083Z",
     "shell.execute_reply.started": "2025-01-23T17:25:07.898184Z"
    },
    "trusted": true
   },
   "outputs": [],
   "source": [
    "print(f\"Результаты оценки: {eval_results}\")"
   ]
  },
  {
   "cell_type": "code",
   "execution_count": null,
   "metadata": {
    "execution": {
     "iopub.execute_input": "2025-01-23T17:30:42.678399Z",
     "iopub.status.busy": "2025-01-23T17:30:42.678063Z",
     "iopub.status.idle": "2025-01-23T17:30:49.281868Z",
     "shell.execute_reply": "2025-01-23T17:30:49.280490Z",
     "shell.execute_reply.started": "2025-01-23T17:30:42.678369Z"
    },
    "trusted": true
   },
   "outputs": [],
   "source": [
    "from huggingface_hub import HfFolder\n",
    "\n",
    "# Укажи название репозитория\n",
    "repo_name = \"telegram_classifier_rubert_tiny_model\"\n",
    "\n",
    "# Сохранение модели и токенизатора локально\n",
    "model.save_pretrained(f\"./{repo_name}\")\n",
    "tokenizer.save_pretrained(f\"./{repo_name}\")\n",
    "\n",
    "# Загрузка на Hugging Face Hub\n",
    "model.push_to_hub(repo_name)\n",
    "tokenizer.push_to_hub(repo_name)\n",
    "\n",
    "print(f\"Модель и токенизатор успешно загружены в huggingface\")"
   ]
  }
 ],
 "metadata": {
  "kaggle": {
   "accelerator": "none",
   "dataSources": [
    {
     "datasetId": 6528953,
     "sourceId": 10552155,
     "sourceType": "datasetVersion"
    }
   ],
   "dockerImageVersionId": 30840,
   "isGpuEnabled": false,
   "isInternetEnabled": true,
   "language": "python",
   "sourceType": "notebook"
  },
  "kernelspec": {
   "display_name": "Python 3",
   "language": "python",
   "name": "python3"
  },
  "language_info": {
   "codemirror_mode": {
    "name": "ipython",
    "version": 3
   },
   "file_extension": ".py",
   "mimetype": "text/x-python",
   "name": "python",
   "nbconvert_exporter": "python",
   "pygments_lexer": "ipython3",
   "version": "3.12.8"
  }
 },
 "nbformat": 4,
 "nbformat_minor": 4
}
