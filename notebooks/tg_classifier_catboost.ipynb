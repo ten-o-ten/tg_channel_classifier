{
 "cells": [
  {
   "cell_type": "code",
   "execution_count": null,
   "metadata": {
    "id": "JIZwbZ6f1Qoo"
   },
   "outputs": [],
   "source": [
    "import pandas\n",
    "from sklearn.model_selection import train_test_split\n",
    "from catboost import CatBoostClassifier\n",
    "from catboost import Pool"
   ]
  },
  {
   "cell_type": "code",
   "execution_count": null,
   "metadata": {
    "id": "pe_KKp541SpO"
   },
   "outputs": [],
   "source": [
    "df_train = pandas.read_csv('data\\full_dataset.csv')"
   ]
  },
  {
   "cell_type": "code",
   "execution_count": null,
   "metadata": {
    "id": "krzNaVnF1XwE"
   },
   "outputs": [],
   "source": [
    "df_train['Text'] = df_train['Text'].astype(str)\n",
    "df_train['Thematics'] = df_train['Thematics'].astype(str)"
   ]
  },
  {
   "cell_type": "code",
   "execution_count": null,
   "metadata": {
    "id": "qWZjfdy92OvK"
   },
   "outputs": [],
   "source": [
    "df_train['Text'] = df_train['Text'].str.strip()"
   ]
  },
  {
   "cell_type": "code",
   "execution_count": null,
   "metadata": {
    "id": "bnHWBItL2jLa"
   },
   "outputs": [],
   "source": [
    "X = df_train.drop(\"Thematics\", axis=1)\n",
    "y = df_train[\"Thematics\"]"
   ]
  },
  {
   "cell_type": "code",
   "execution_count": null,
   "metadata": {
    "id": "Ufd4M50k2kvn"
   },
   "outputs": [],
   "source": [
    "X_train, X_test, y_train, y_test = train_test_split(X, y, train_size=0.99, random_state=42)"
   ]
  },
  {
   "cell_type": "code",
   "execution_count": null,
   "metadata": {
    "id": "zQbQV4472mjI"
   },
   "outputs": [],
   "source": [
    "train_pool = Pool(data = X_train, label = y_train, text_features = ['Text'])\n",
    "test_pool = Pool(data = X_test, label = y_test, text_features = ['Text'])"
   ]
  },
  {
   "cell_type": "code",
   "execution_count": null,
   "metadata": {
    "id": "LEHNJTbT2pEU"
   },
   "outputs": [],
   "source": [
    "model = CatBoostClassifier(\n",
    "    iterations = 10000,\n",
    "    learning_rate = 0.01,\n",
    "    eval_metric = \"AUC\",\n",
    "    task_type = 'GPU'\n",
    ")\n",
    "model.fit(\n",
    "    train_pool,\n",
    "    eval_set = test_pool,\n",
    "    verbose = 1000\n",
    ")"
   ]
  },
  {
   "cell_type": "code",
   "execution_count": null,
   "metadata": {
    "id": "MjBvorTw2rB6"
   },
   "outputs": [],
   "source": [
    "model.save_model('tg_classifier_model.bin')"
   ]
  }
 ],
 "metadata": {
  "colab": {
   "provenance": []
  },
  "kernelspec": {
   "display_name": "Python 3",
   "name": "python3"
  },
  "language_info": {
   "codemirror_mode": {
    "name": "ipython",
    "version": 3
   },
   "file_extension": ".py",
   "mimetype": "text/x-python",
   "name": "python",
   "nbconvert_exporter": "python",
   "pygments_lexer": "ipython3",
   "version": "3.12.8"
  }
 },
 "nbformat": 4,
 "nbformat_minor": 0
}
