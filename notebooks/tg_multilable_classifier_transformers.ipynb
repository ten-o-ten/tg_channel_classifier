{
 "cells": [
  {
   "cell_type": "code",
   "execution_count": null,
   "metadata": {
    "execution": {
     "iopub.execute_input": "2025-01-27T13:50:26.059457Z",
     "iopub.status.busy": "2025-01-27T13:50:26.058988Z",
     "iopub.status.idle": "2025-01-27T13:50:26.065994Z",
     "shell.execute_reply": "2025-01-27T13:50:26.064944Z",
     "shell.execute_reply.started": "2025-01-27T13:50:26.059419Z"
    },
    "trusted": true
   },
   "outputs": [],
   "source": [
    "from transformers import BertTokenizer, BertForSequenceClassification, Trainer, TrainingArguments, DataCollatorWithPadding\n",
    "from datasets import Dataset\n",
    "import pandas as pd \n",
    "import numpy as np\n",
    "from sklearn.model_selection import train_test_split\n",
    "from sklearn.metrics import f1_score\n",
    "from sklearn.preprocessing import MultiLabelBinarizer\n",
    "import torch"
   ]
  },
  {
   "cell_type": "code",
   "execution_count": null,
   "metadata": {
    "execution": {
     "iopub.execute_input": "2025-01-27T16:09:32.095848Z",
     "iopub.status.busy": "2025-01-27T16:09:32.095475Z",
     "iopub.status.idle": "2025-01-27T16:09:32.322249Z",
     "shell.execute_reply": "2025-01-27T16:09:32.321230Z",
     "shell.execute_reply.started": "2025-01-27T16:09:32.095813Z"
    },
    "trusted": true
   },
   "outputs": [],
   "source": [
    "# Заходим на hugging face\n",
    "from huggingface_hub import login\n",
    "from kaggle_secrets import UserSecretsClient\n",
    "from huggingface_hub import HfFolder\n",
    "user_secrets = UserSecretsClient()\n",
    "\n",
    "hf_token = user_secrets.get_secret(\"HUGGINGFACE_TOKEN\")\n",
    "login(token = hf_token)"
   ]
  },
  {
   "cell_type": "code",
   "execution_count": null,
   "metadata": {},
   "outputs": [],
   "source": [
    "# Загрузка данных\n",
    "df = pd.read_csv('data\\multiclass_dataset.csv')"
   ]
  },
  {
   "cell_type": "code",
   "execution_count": null,
   "metadata": {
    "collapsed": true,
    "execution": {
     "iopub.execute_input": "2025-01-27T13:01:58.319913Z",
     "iopub.status.busy": "2025-01-27T13:01:58.319462Z",
     "iopub.status.idle": "2025-01-27T13:02:01.031450Z",
     "shell.execute_reply": "2025-01-27T13:02:01.030460Z",
     "shell.execute_reply.started": "2025-01-27T13:01:58.319878Z"
    },
    "jupyter": {
     "outputs_hidden": true
    },
    "trusted": true
   },
   "outputs": [],
   "source": [
    "# Преобразование меток\n",
    "all_labels = sorted(list({label.strip() for sublist in df['Thematics'].str.split(',') for label in sublist}))\n",
    "mlb = MultiLabelBinarizer()\n",
    "mlb.fit([all_labels])"
   ]
  },
  {
   "cell_type": "code",
   "execution_count": null,
   "metadata": {
    "execution": {
     "iopub.execute_input": "2025-01-27T13:03:05.678877Z",
     "iopub.status.busy": "2025-01-27T13:03:05.678514Z",
     "iopub.status.idle": "2025-01-27T13:04:00.366579Z",
     "shell.execute_reply": "2025-01-27T13:04:00.365827Z",
     "shell.execute_reply.started": "2025-01-27T13:03:05.678851Z"
    },
    "trusted": true
   },
   "outputs": [],
   "source": [
    "# Проверка преобразования меток\n",
    "df['labels'] = df['Thematics'].str.split(',').apply(\n",
    "    lambda x: mlb.transform([x])[0].astype(np.float32) \n",
    ")"
   ]
  },
  {
   "cell_type": "code",
   "execution_count": null,
   "metadata": {
    "execution": {
     "iopub.execute_input": "2025-01-27T13:04:04.413465Z",
     "iopub.status.busy": "2025-01-27T13:04:04.413142Z",
     "iopub.status.idle": "2025-01-27T13:04:18.411135Z",
     "shell.execute_reply": "2025-01-27T13:04:18.410166Z",
     "shell.execute_reply.started": "2025-01-27T13:04:04.413439Z"
    },
    "trusted": true
   },
   "outputs": [],
   "source": [
    "# Разделение данных\n",
    "train_df, test_df = train_test_split(df, test_size=0.2, random_state=42)\n",
    "train_dataset = Dataset.from_pandas(train_df)\n",
    "test_dataset = Dataset.from_pandas(test_df)"
   ]
  },
  {
   "cell_type": "code",
   "execution_count": null,
   "metadata": {
    "execution": {
     "iopub.execute_input": "2025-01-27T13:04:25.618807Z",
     "iopub.status.busy": "2025-01-27T13:04:25.618408Z",
     "iopub.status.idle": "2025-01-27T13:04:27.431508Z",
     "shell.execute_reply": "2025-01-27T13:04:27.430824Z",
     "shell.execute_reply.started": "2025-01-27T13:04:25.618775Z"
    },
    "trusted": true
   },
   "outputs": [],
   "source": [
    "# Инициализация модели и токенизатора\n",
    "model_name = 'cointegrated/rubert-tiny'\n",
    "tokenizer = BertTokenizer.from_pretrained(model_name)\n",
    "model = BertForSequenceClassification.from_pretrained(\n",
    "    model_name,\n",
    "    num_labels=len(all_labels),\n",
    "    problem_type=\"multi_label_classification\",\n",
    "    ignore_mismatched_sizes=True,\n",
    "    torch_dtype=torch.float32\n",
    ")"
   ]
  },
  {
   "cell_type": "code",
   "execution_count": null,
   "metadata": {
    "execution": {
     "iopub.execute_input": "2025-01-27T13:04:37.873309Z",
     "iopub.status.busy": "2025-01-27T13:04:37.872985Z",
     "iopub.status.idle": "2025-01-27T13:49:37.915871Z",
     "shell.execute_reply": "2025-01-27T13:49:37.915094Z",
     "shell.execute_reply.started": "2025-01-27T13:04:37.873286Z"
    },
    "trusted": true
   },
   "outputs": [],
   "source": [
    "# Токенизация\n",
    "def tokenize_function(examples):\n",
    "    encoding = tokenizer(\n",
    "        examples['Text'],\n",
    "        padding=False,\n",
    "        truncation=True,\n",
    "        max_length=128,\n",
    "        return_tensors='pt'\n",
    "    )\n",
    "    return {\n",
    "        'input_ids': encoding['input_ids'][0],\n",
    "        'attention_mask': encoding['attention_mask'][0]\n",
    "    }\n",
    "\n",
    "train_dataset = train_dataset.map(tokenize_function, batched=False)  # Обрабатываем по одному примеру\n",
    "test_dataset = test_dataset.map(tokenize_function, batched=False)"
   ]
  },
  {
   "cell_type": "code",
   "execution_count": null,
   "metadata": {
    "execution": {
     "iopub.execute_input": "2025-01-27T13:49:48.003323Z",
     "iopub.status.busy": "2025-01-27T13:49:48.002989Z",
     "iopub.status.idle": "2025-01-27T13:49:48.021590Z",
     "shell.execute_reply": "2025-01-27T13:49:48.020707Z",
     "shell.execute_reply.started": "2025-01-27T13:49:48.003299Z"
    },
    "trusted": true
   },
   "outputs": [],
   "source": [
    "# Удаление лишних колонок\n",
    "columns_to_remove = ['Text', 'Thematics', '__index_level_0__']\n",
    "\n",
    "existing_columns_to_remove = [col for col in columns_to_remove if col in train_dataset.column_names]\n",
    "\n",
    "train_dataset = train_dataset.remove_columns(existing_columns_to_remove)\n",
    "test_dataset = test_dataset.remove_columns(existing_columns_to_remove)"
   ]
  },
  {
   "cell_type": "code",
   "execution_count": null,
   "metadata": {
    "execution": {
     "iopub.execute_input": "2025-01-27T13:57:44.470299Z",
     "iopub.status.busy": "2025-01-27T13:57:44.469915Z",
     "iopub.status.idle": "2025-01-27T13:57:44.474509Z",
     "shell.execute_reply": "2025-01-27T13:57:44.473557Z",
     "shell.execute_reply.started": "2025-01-27T13:57:44.470273Z"
    },
    "trusted": true
   },
   "outputs": [],
   "source": [
    "# 5. Создание DataCollator\n",
    "data_collator = DataCollatorWithPadding(\n",
    "    tokenizer=tokenizer,\n",
    "    padding='longest',\n",
    "    max_length=128,\n",
    "    pad_to_multiple_of=8,\n",
    "    return_tensors='pt'\n",
    ")"
   ]
  },
  {
   "cell_type": "code",
   "execution_count": null,
   "metadata": {
    "collapsed": true,
    "execution": {
     "iopub.execute_input": "2025-01-27T13:50:33.193345Z",
     "iopub.status.busy": "2025-01-27T13:50:33.193035Z",
     "iopub.status.idle": "2025-01-27T13:50:33.544875Z",
     "shell.execute_reply": "2025-01-27T13:50:33.543972Z",
     "shell.execute_reply.started": "2025-01-27T13:50:33.193322Z"
    },
    "jupyter": {
     "outputs_hidden": true
    },
    "trusted": true
   },
   "outputs": [],
   "source": [
    "# Перенос модели на все GPU\n",
    "if torch.cuda.device_count() > 1:\n",
    "    print(\"Активируем DataParallel\")\n",
    "    model = torch.nn.DataParallel(model)\n",
    "model.to('cuda')"
   ]
  },
  {
   "cell_type": "code",
   "execution_count": null,
   "metadata": {
    "execution": {
     "iopub.execute_input": "2025-01-27T14:07:07.211156Z",
     "iopub.status.busy": "2025-01-27T14:07:07.210778Z",
     "iopub.status.idle": "2025-01-27T14:07:07.249707Z",
     "shell.execute_reply": "2025-01-27T14:07:07.248941Z",
     "shell.execute_reply.started": "2025-01-27T14:07:07.211133Z"
    },
    "trusted": true
   },
   "outputs": [],
   "source": [
    "# Конфигурация обучения\n",
    "training_args = TrainingArguments(\n",
    "    output_dir='./results',\n",
    "    eval_strategy=\"epoch\",\n",
    "    learning_rate=2e-5,                  # лерниг рейт\n",
    "    per_device_train_batch_size=16,      # размер батчей\n",
    "    per_device_eval_batch_size=16,\n",
    "    num_train_epochs=5,                  # кол-во эпох\n",
    "    logging_steps=1,                     # шаги логгирования\n",
    "    weight_decay=0.01,\n",
    "    logging_dir='./logs',\n",
    "    save_strategy=\"epoch\",\n",
    "    load_best_model_at_end=True,\n",
    "    metric_for_best_model=\"micro_f1\",    # метрика\n",
    "    fp16=True,\n",
    "    dataloader_num_workers=2,\n",
    "    report_to=\"none\",\n",
    "    remove_unused_columns=False,         # причина тряски (возможно)\n",
    "    label_names=['labels'],\n",
    "    gradient_accumulation_steps=2,  # Накопление градиентов\n",
    ")"
   ]
  },
  {
   "cell_type": "code",
   "execution_count": null,
   "metadata": {
    "execution": {
     "iopub.execute_input": "2025-01-27T14:07:09.246925Z",
     "iopub.status.busy": "2025-01-27T14:07:09.246590Z",
     "iopub.status.idle": "2025-01-27T14:07:09.252092Z",
     "shell.execute_reply": "2025-01-27T14:07:09.251135Z",
     "shell.execute_reply.started": "2025-01-27T14:07:09.246900Z"
    },
    "trusted": true
   },
   "outputs": [],
   "source": [
    "# Метрики\n",
    "def compute_metrics(p):\n",
    "\n",
    "    logits = p.predictions\n",
    "    labels = p.label_ids\n",
    "    \n",
    "    preds = (torch.sigmoid(torch.tensor(logits)).cpu().numpy() > 0.5).astype(int) #порог классификации\n",
    "    \n",
    "    return {\n",
    "        'micro_f1': f1_score(labels, preds, average='micro'),\n",
    "        'macro_f1': f1_score(labels, preds, average='macro')\n",
    "    }"
   ]
  },
  {
   "cell_type": "code",
   "execution_count": null,
   "metadata": {
    "execution": {
     "iopub.execute_input": "2025-01-27T14:07:19.094452Z",
     "iopub.status.busy": "2025-01-27T14:07:19.094073Z",
     "iopub.status.idle": "2025-01-27T14:07:19.115718Z",
     "shell.execute_reply": "2025-01-27T14:07:19.114860Z",
     "shell.execute_reply.started": "2025-01-27T14:07:19.094421Z"
    },
    "trusted": true
   },
   "outputs": [],
   "source": [
    "# Инициализация Trainer\n",
    "trainer = Trainer(\n",
    "    model=model,\n",
    "    args=training_args,\n",
    "    train_dataset=train_dataset,\n",
    "    eval_dataset=test_dataset,\n",
    "    compute_metrics=compute_metrics,\n",
    "    data_collator=data_collator\n",
    ")"
   ]
  },
  {
   "cell_type": "code",
   "execution_count": null,
   "metadata": {
    "execution": {
     "iopub.execute_input": "2025-01-27T14:07:21.133097Z",
     "iopub.status.busy": "2025-01-27T14:07:21.132757Z",
     "iopub.status.idle": "2025-01-27T15:37:33.413692Z",
     "shell.execute_reply": "2025-01-27T15:37:33.412844Z",
     "shell.execute_reply.started": "2025-01-27T14:07:21.133070Z"
    },
    "trusted": true
   },
   "outputs": [],
   "source": [
    "# Запуск обучения\n",
    "trainer.train()"
   ]
  },
  {
   "cell_type": "code",
   "execution_count": null,
   "metadata": {
    "execution": {
     "iopub.execute_input": "2025-01-27T15:37:55.442815Z",
     "iopub.status.busy": "2025-01-27T15:37:55.442434Z",
     "iopub.status.idle": "2025-01-27T15:40:08.350500Z",
     "shell.execute_reply": "2025-01-27T15:40:08.349344Z",
     "shell.execute_reply.started": "2025-01-27T15:37:55.442777Z"
    },
    "trusted": true
   },
   "outputs": [],
   "source": [
    "# Оценка модели на тестовых данных\n",
    "eval_results = trainer.evaluate()\n",
    "print(f\"Результаты оценки: {eval_results}\")"
   ]
  },
  {
   "cell_type": "code",
   "execution_count": null,
   "metadata": {
    "collapsed": true,
    "execution": {
     "iopub.execute_input": "2025-01-27T16:09:40.551973Z",
     "iopub.status.busy": "2025-01-27T16:09:40.551613Z",
     "iopub.status.idle": "2025-01-27T16:09:45.625183Z",
     "shell.execute_reply": "2025-01-27T16:09:45.623775Z",
     "shell.execute_reply.started": "2025-01-27T16:09:40.551948Z"
    },
    "jupyter": {
     "outputs_hidden": true
    },
    "trusted": true
   },
   "outputs": [],
   "source": [
    "# Сохранение модели и токенизатора на Hugging Face\n",
    "from huggingface_hub import HfFolder\n",
    "\n",
    "repo_name = \"telegram_multiLabel_classifier_rubert_tiny_model\"\n",
    "\n",
    "model_to_save = model.module if hasattr(model, 'module') else model\n",
    "\n",
    "model_to_save.push_to_hub(repo_name)\n",
    "tokenizer.push_to_hub(repo_name)\n",
    "\n",
    "print(f\"Модель и токенизатор успешно загружены в huggingface\")"
   ]
  }
 ],
 "metadata": {
  "kaggle": {
   "accelerator": "none",
   "dataSources": [
    {
     "datasetId": 6543498,
     "sourceId": 10574174,
     "sourceType": "datasetVersion"
    }
   ],
   "dockerImageVersionId": 30840,
   "isGpuEnabled": false,
   "isInternetEnabled": true,
   "language": "python",
   "sourceType": "notebook"
  },
  "kernelspec": {
   "display_name": "Python 3",
   "language": "python",
   "name": "python3"
  },
  "language_info": {
   "codemirror_mode": {
    "name": "ipython",
    "version": 3
   },
   "file_extension": ".py",
   "mimetype": "text/x-python",
   "name": "python",
   "nbconvert_exporter": "python",
   "pygments_lexer": "ipython3",
   "version": "3.12.8"
  }
 },
 "nbformat": 4,
 "nbformat_minor": 4
}
