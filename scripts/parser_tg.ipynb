{
 "cells": [
  {
   "cell_type": "code",
   "execution_count": null,
   "metadata": {
    "id": "b8EsErpHSo_7"
   },
   "outputs": [],
   "source": [
    "import pandas \n",
    "import re \n",
    "from telethon import TelegramClient"
   ]
  },
  {
   "cell_type": "code",
   "execution_count": null,
   "metadata": {
    "id": "32sRXjSFhxX6"
   },
   "outputs": [],
   "source": [
    "async def parser(list_channel, tematic):\n",
    "\n",
    "  api_id =   # задаем API\n",
    "  api_hash = ''  #задаем HASH\n",
    "  post_count = 2000\n",
    "  data = []\n",
    "\n",
    "  async with TelegramClient('session_name', api_id, api_hash) as client:\n",
    "\n",
    "        for channel_name in list_channel:\n",
    "\n",
    "          async for message in client.iter_messages(channel_name, reverse=False, limit=post_count):\n",
    "\n",
    "            if message.message:\n",
    "              text=message.message\n",
    "              data.append({'Text': text})\n",
    "\n",
    "        client.disconnect()\n",
    "\n",
    "  df = pandas.DataFrame(data)\n",
    "  df['Thematics'] = tematic\n",
    "  return df"
   ]
  },
  {
   "cell_type": "code",
   "execution_count": 8,
   "metadata": {
    "id": "QAWHI7X6Swp8"
   },
   "outputs": [],
   "source": [
    "def low_reg(x): #приводит текст к нижнему регистру\n",
    "    x = x.lower()\n",
    "    return x\n",
    "\n",
    "def remove_emails(x): #удаляет смайлики\n",
    "    return re.sub(r'([a-z0-9+._-]+@[a-z0-9+._-]+\\.[a-z0-9+_-]+)',\"\", x)\n",
    "\n",
    "def remove_urls(x): #удаляет ссылки\n",
    "    return re.sub(r'(http|https|ftp|ssh)://([\\w_-]+(?:(?:\\.[\\w_-]+)+))([\\w.,@?^=%&:/~+#-]*[\\w@?^=%&/~+#-])?', '' , x)\n",
    "\n",
    "def remove_rt(x):\n",
    "    return re.sub(r'\\brt\\b', '', x).strip()\n",
    "\n",
    "def remove_special_chars(x):\n",
    "    x = re.sub(r'[^\\w ]+', \"\", x)\n",
    "    x = ' '.join(x.split())\n",
    "    return x"
   ]
  },
  {
   "cell_type": "code",
   "execution_count": 5,
   "metadata": {
    "id": "XlKUgI9yTk1Y"
   },
   "outputs": [],
   "source": [
    "def redactor_txt(df):\n",
    "\n",
    "  df['Text'] = df['Text'].apply(lambda x: low_reg(x))\n",
    "  df['Text'] = df['Text'].apply(lambda x: remove_emails(x))\n",
    "  df['Text'] = df['Text'].apply(lambda x: remove_urls(x))\n",
    "  df['Text'] = df['Text'].apply(lambda x: remove_rt(x))\n",
    "  df['Text'] = df['Text'].apply(lambda x: remove_special_chars(x))\n",
    "\n",
    "  df = df.dropna(axis = 0, how ='any')\n",
    "\n",
    "  return df"
   ]
  },
  {
   "cell_type": "code",
   "execution_count": 7,
   "metadata": {
    "id": "Dx8pOytD0vto"
   },
   "outputs": [],
   "source": [
    "def load_channel_data(filepath):\n",
    "\n",
    "    try:\n",
    "        return pandas.read_csv(filepath)\n",
    "    except FileNotFoundError:\n",
    "        print(f\"Ошибка: Файл {filepath} не найден.\")\n",
    "        return None\n",
    "\n",
    "def list_for_parser(df_channels, tematic_name):\n",
    "\n",
    "    channels = df_channels.loc[df_channels['Thematics'] == tematic_name, 'Channels']\n",
    "    if channels.empty:\n",
    "        return []\n",
    "\n",
    "    channel_list = channels.tolist()\n",
    "    if not channel_list:\n",
    "        return []\n",
    "\n",
    "    try:\n",
    "        return channel_list[0].split()\n",
    "    except AttributeError:\n",
    "        print(f\"Ошибка: Некорректные данные в столбце 'Channels' для тематики '{tematic_name}'.\")\n",
    "        return []\n",
    "    except Exception as e:\n",
    "        print(f\"Непредвиденная ошибка при обработке каналов: {e}\")\n",
    "        return []"
   ]
  },
  {
   "cell_type": "code",
   "execution_count": 8,
   "metadata": {
    "id": "0DeXnMQENv9k"
   },
   "outputs": [],
   "source": [
    "def get_channels(id, df_name_channels):\n",
    "  tematics = {\n",
    "      0: 'Новости и СМИ',\n",
    "      1: 'Блоги',\n",
    "      2: 'Технологии',\n",
    "      3: 'Юмор и развлечения',\n",
    "      4: 'Политика',\n",
    "      5: 'Экономика и финансы',\n",
    "      6: 'Криптовалюты',\n",
    "      7: 'Наука и образование',\n",
    "      8: 'Музыка',\n",
    "      9: 'Лингвистика',\n",
    "      10: 'Бизнес и стартапы',\n",
    "      11: 'Психология',\n",
    "      12: 'Маркетинг и реклама',\n",
    "      13: 'Карьера',\n",
    "      14: 'Фильмы и сериалы',\n",
    "      15: 'Литература',\n",
    "      16: 'Спорт',\n",
    "      17: 'Здоровье',\n",
    "      18: 'Путешествия и эмиграция',\n",
    "      19: 'Искусство и фото',\n",
    "      20: 'Мода и красота',\n",
    "      21: 'Медицина',\n",
    "      22: 'Игры и приложения',\n",
    "      23: 'Еда и напитки',\n",
    "      24: 'Продажи',\n",
    "      25: 'Автомобили',\n",
    "      26: 'Недвижимость',\n",
    "      27: 'Животные',\n",
    "      28: 'Религия',\n",
    "      29: 'Мебель и дизайн интерьеров',\n",
    "      30: 'Мистика и эзотерика'\n",
    "  }\n",
    "\n",
    "\n",
    "\n",
    "  return list_for_parser(df_name_channels, tematics[id]), tematics[id]"
   ]
  },
  {
   "cell_type": "code",
   "execution_count": 11,
   "metadata": {
    "id": "sjgkW45kUPic"
   },
   "outputs": [],
   "source": [
    "async def main():\n",
    "\n",
    "  df = pandas.DataFrame()\n",
    "  df_result = pandas.DataFrame()\n",
    "  list_channel = []\n",
    "\n",
    "  filepath_list_chanell = 'list_Channels.csv' # кастомный датасет со списком каналов и их тематиками\n",
    "  df_name_channels = load_channel_data(filepath_list_chanell)\n",
    "\n",
    "  for i in range(30):\n",
    "\n",
    "    list_channel, tematic = get_channels(i, df_name_channels)\n",
    "\n",
    "    if not list_channel:\n",
    "      continue\n",
    "\n",
    "    df = await parser(list_channel, tematic)\n",
    "    df = redactor_txt(df)\n",
    "    df_result = pandas.concat([df, df_result])\n",
    "\n",
    "  df_result.to_csv('train_dataset_classifier.csv')"
   ]
  },
  {
   "cell_type": "code",
   "execution_count": null,
   "metadata": {
    "colab": {
     "base_uri": "https://localhost:8080/",
     "height": 298
    },
    "id": "SxWuK8SST3ic",
    "outputId": "152bd79a-d962-4f13-cd09-84556e21665a"
   },
   "outputs": [],
   "source": [
    "await main()"
   ]
  }
 ],
 "metadata": {
  "colab": {
   "provenance": []
  },
  "kernelspec": {
   "display_name": "Python 3",
   "name": "python3"
  },
  "language_info": {
   "codemirror_mode": {
    "name": "ipython",
    "version": 3
   },
   "file_extension": ".py",
   "mimetype": "text/x-python",
   "name": "python",
   "nbconvert_exporter": "python",
   "pygments_lexer": "ipython3",
   "version": "3.12.8"
  }
 },
 "nbformat": 4,
 "nbformat_minor": 0
}
