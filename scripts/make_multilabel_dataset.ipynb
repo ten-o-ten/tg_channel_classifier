{
  "cells": [
    {
      "cell_type": "code",
      "execution_count": null,
      "metadata": {
        "id": "VJ_ztNbbVji_"
      },
      "outputs": [],
      "source": [
        "import pandas as pd"
      ]
    },
    {
      "cell_type": "code",
      "execution_count": null,
      "metadata": {
        "id": "-tMc-kRbVpUA"
      },
      "outputs": [],
      "source": [
        "df = pd.read_csv('/content/drive/MyDrive/JarvisAI/After parser/ITOG/DATASET.csv')"
      ]
    },
    {
      "cell_type": "code",
      "execution_count": null,
      "metadata": {
        "id": "6guGlEEDtK63"
      },
      "outputs": [],
      "source": [
        "df = df[df['Text'].str.len() >= 30]\n",
        "\n",
        "# Функция для объединения меток классов\n",
        "def merge_thematics(thematic):\n",
        "    if thematic == \"Политика\":\n",
        "        return \"Политика, Новости и СМИ\"\n",
        "    if thematic == \"Маркетинг и реклама\":\n",
        "        return \"Новости и СМИ\"\n",
        "    elif thematic == \"Игры и приложения\":\n",
        "        return \"Игры и приложения, Новости и СМИ\"\n",
        "    elif thematic == \"Наука и образование\":\n",
        "        return \"Наука и образование, Технологии, Новости и СМИ\"\n",
        "    elif thematic == \"Технологии\":\n",
        "        return \"Наука и образование, Технологии, Новости и СМИ\"\n",
        "    elif thematic == \"Спорт\":\n",
        "        return \"Спорт, Новости и СМИ\"\n",
        "    else:\n",
        "        return thematic\n",
        "\n",
        "# Применение функции к столбцу 'Thematics'\n",
        "df['Thematics'] = df['Thematics'].apply(merge_thematics)\n"
      ]
    },
    {
      "cell_type": "code",
      "execution_count": null,
      "metadata": {
        "id": "OCTRmX-ltU1M"
      },
      "outputs": [],
      "source": [
        "# Словарь для объединения тематик\n",
        "thematic_groups = {\n",
        "    \"Бизнес и стартапы\": \"Бизнес и стартапы, Криптовалюты, Продажи, Экономика и финансы\",\n",
        "    \"Криптовалюты\": \"Бизнес и стартапы, Криптовалюты, Продажи, Экономика и финансы\",\n",
        "    \"Продажи\": \"Бизнес и стартапы, Криптовалюты, Продажи, Экономика и финансы\",\n",
        "    \"Экономика и финансы\": \"Бизнес и стартапы, Криптовалюты, Продажи, Экономика и финансы\",\n",
        "\n",
        "    \"Здоровье\": \"Здоровье, Медицина\",\n",
        "    \"Медицина\": \"Здоровье, Медицина\",\n",
        "\n",
        "    \"Искусство и фото\": \"Искусство и фото, Мода и красота, Мебель и дизайн интерьеров\",\n",
        "    \"Мода и красота\": \"Искусство и фото, Мода и красота, Мебель и дизайн интерьеров\",\n",
        "    \"Мебель и дизайн интерьеров\": \"Искусство и фото, Мода и красота, Мебель и дизайн интерьеров\",\n",
        "\n",
        "    \"Фильмы и сериалы\": \"Фильмы и сериалы, Юмор и развлечения\",\n",
        "    \"Юмор и развлечения\": \"Фильмы и сериалы, Юмор и развлечения\"\n",
        "}\n",
        "\n",
        "# Функция для замены тематик\n",
        "def replace_thematics(thematic):\n",
        "    return thematic_groups.get(thematic, thematic)\n",
        "\n",
        "# Применение функции к столбцу 'Thematics'\n",
        "df['Thematics'] = df['Thematics'].apply(replace_thematics)"
      ]
    },
    {
      "cell_type": "code",
      "execution_count": null,
      "metadata": {},
      "outputs": [],
      "source": [
        "class_distribution = df['Thematics'].value_counts()\n",
        "print(\"Распределение классов:\")\n",
        "print(class_distribution)\n",
        "\n",
        "# Визуализация распределения (опционально)\n",
        "import matplotlib.pyplot as plt\n",
        "import seaborn as sns\n",
        "\n",
        "plt.figure(figsize=(8, 6))\n",
        "sns.countplot(x='Thematics', data=df)  # Замени 'метка_класса' на имя столбца с метками\n",
        "plt.title('Распределение классов')\n",
        "plt.xlabel('Класс')\n",
        "plt.ylabel('Количество')\n",
        "plt.show()"
      ]
    }
  ],
  "metadata": {
    "colab": {
      "provenance": []
    },
    "kernelspec": {
      "display_name": "Python 3",
      "name": "python3"
    },
    "language_info": {
      "name": "python"
    }
  },
  "nbformat": 4,
  "nbformat_minor": 0
}
